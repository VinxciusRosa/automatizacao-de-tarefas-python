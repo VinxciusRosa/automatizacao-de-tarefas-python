{
 "cells": [
  {
   "cell_type": "code",
   "execution_count": 26,
   "id": "5e5864f8",
   "metadata": {},
   "outputs": [],
   "source": [
    "import pyautogui\n",
    "import pyperclip\n",
    "import time"
   ]
  },
  {
   "cell_type": "code",
   "execution_count": 62,
   "id": "1e1420bf",
   "metadata": {},
   "outputs": [],
   "source": [
    "pyautogui.PAUSE = 1.5\n",
    "\n",
    "pyautogui.hotkey('ctrl' , 't')\n",
    "link = 'https://www.canva.com'\n",
    "pyperclip.copy(link)\n",
    "pyautogui.hotkey('ctrl' ,'v')\n",
    "pyautogui.press('enter')\n",
    "time.sleep(4)\n",
    "pyautogui.click(x=164, y=324)\n",
    "time.sleep(4)\n",
    "pyautogui.click(x=567, y=462)\n",
    "time.sleep(5)\n",
    "pyautogui.click(x=1618, y=117)\n",
    "time.sleep(6)\n",
    "pyautogui.click(x=1699, y=685)\n",
    "\n",
    "\n",
    "pyautogui.hotkey('ctrl' , 't')\n",
    "link_gmail = 'https://mail.google.com/mail/u/1/#starred'\n",
    "pyperclip.copy(link_gmail)\n",
    "pyautogui.hotkey('ctrl' , 'v')\n",
    "pyautogui.press('enter')\n",
    "\n",
    "time.sleep(5)\n",
    "pyautogui.click(x=100, y=202)\n",
    "\n",
    "pyautogui.write(\"v.rosa@aluno.ifsp.edu.br\")\n",
    "pyautogui.press('tab')\n",
    "pyautogui.press('tab')\n",
    "\n",
    "time.sleep(3)\n",
    "assunto = \"Apresentação - Inteligência Artificial\"\n",
    "pyperclip.copy(assunto)\n",
    "pyautogui.hotkey('ctrl' ,'v')\n",
    "pyautogui.press('tab')\n",
    "\n",
    "texto = f\"\"\"\n",
    "Prezado, Prof. Dr. Ricardo Roberto Plaza Teixeira,\n",
    "\n",
    "Como solicitado segue o arquivo pdf referente a minha apresentação para a atividade que será realizada no dia 21/08\n",
    "Atenciosamente,\n",
    "\n",
    "Vinicius Carvalho Rosa.\n",
    "\"\"\"\n",
    "\n",
    "pyperclip.copy(texto)\n",
    "pyautogui.hotkey('ctrl','v')\n",
    "\n",
    "pyautogui.click(x=258, y=985)\n",
    "\n",
    "time.sleep(4)\n",
    "pyautogui.click(x=316, y=910)\n",
    "time.sleep(2)\n",
    "pyautogui.hotkey('ctrl','x')\n",
    "\n",
    "pyautogui.hotkey('alt','tab')\n",
    "\n",
    "pyautogui.click(x=1485, y=784)\n",
    "\n",
    "pyautogui.hotkey('ctrl','v')\n",
    "time.sleep(5)\n",
    "pyautogui.hotkey('ctrl', 'enter')\n",
    "\n"
   ]
  },
  {
   "cell_type": "code",
   "execution_count": 61,
   "id": "518c438a",
   "metadata": {},
   "outputs": [
    {
     "data": {
      "text/plain": [
       "Point(x=592, y=746)"
      ]
     },
     "execution_count": 61,
     "metadata": {},
     "output_type": "execute_result"
    }
   ],
   "source": [
    "import time\n",
    "time.sleep(5)\n",
    "pyautogui.position()"
   ]
  },
  {
   "cell_type": "code",
   "execution_count": null,
   "id": "1be8b616",
   "metadata": {},
   "outputs": [],
   "source": []
  },
  {
   "cell_type": "code",
   "execution_count": null,
   "id": "277b94d6",
   "metadata": {},
   "outputs": [],
   "source": []
  }
 ],
 "metadata": {
  "kernelspec": {
   "display_name": "Python 3",
   "language": "python",
   "name": "python3"
  },
  "language_info": {
   "codemirror_mode": {
    "name": "ipython",
    "version": 3
   },
   "file_extension": ".py",
   "mimetype": "text/x-python",
   "name": "python",
   "nbconvert_exporter": "python",
   "pygments_lexer": "ipython3",
   "version": "3.8.8"
  }
 },
 "nbformat": 4,
 "nbformat_minor": 5
}
